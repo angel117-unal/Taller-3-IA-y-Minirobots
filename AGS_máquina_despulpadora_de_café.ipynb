{
  "nbformat": 4,
  "nbformat_minor": 0,
  "metadata": {
    "colab": {
      "provenance": []
    },
    "kernelspec": {
      "name": "python3",
      "display_name": "Python 3"
    },
    "language_info": {
      "name": "python"
    }
  },
  "cells": [
    {
      "cell_type": "code",
      "execution_count": null,
      "metadata": {
        "id": "kBxTFtz9wNqP"
      },
      "outputs": [],
      "source": [
        "import random\n",
        "import numpy as np"
      ]
    },
    {
      "cell_type": "code",
      "source": [
        "# Función objetivo simulada\n",
        "def fitness_function(v):\n",
        "    # Supongamos que la eficiencia es una curva tipo campana centrada en 200 RPM\n",
        "    eficiencia = np.exp(-0.01 * (v - 200)**2)  # Máxima eficiencia a 200 RPM\n",
        "    defectos = 0.005 * v  # Defectos aumentan con la velocidad\n",
        "    return eficiencia - defectos\n",
        "\n",
        "# Parámetros del AG\n",
        "population_size = 10\n",
        "generations = 20\n",
        "mutation_rate = 0.1\n",
        "velocity_range = (50, 300)\n",
        "\n",
        "# Generar población inicial\n",
        "population = [random.uniform(*velocity_range) for _ in range(population_size)]\n",
        "\n",
        "# Evolución\n",
        "for generation in range(generations):\n",
        "    # Evaluar fitness de la población\n",
        "    fitness = [fitness_function(v) for v in population]\n",
        "\n",
        "    # Selección: Elegir los mejores individuos\n",
        "    selected = list(np.array(population)[np.argsort(fitness)[-population_size//2:]])\n",
        "\n",
        "    # Cruce: Generar nuevos individuos\n",
        "    offspring = []\n",
        "    for _ in range(population_size - len(selected)):\n",
        "        parent1, parent2 = random.sample(selected, 2)\n",
        "        child = (parent1 + parent2) / 2  # Promedio simple\n",
        "        offspring.append(child)\n",
        "\n",
        "    # Mutación\n",
        "    for i in range(len(offspring)):\n",
        "        if random.random() < mutation_rate:\n",
        "            offspring[i] += random.uniform(-10, 10)  # Cambios pequeños\n",
        "\n",
        "    # Actualizar población\n",
        "    population = selected + offspring\n",
        "    population = [max(min(v, velocity_range[1]), velocity_range[0]) for v in population]  # Limitar al rango\n",
        "\n",
        "    # Mostrar progreso\n",
        "    best_velocity = population[np.argmax(fitness)]\n",
        "    print(f\"Generación {generation + 1}: Mejor velocidad = {best_velocity:.2f} RPM, Fitness = {max(fitness):.4f}\")\n",
        "\n",
        "# Resultado final\n",
        "best_velocity = population[np.argmax(fitness)]\n",
        "print(f\"\\nVelocidad óptima encontrada: {best_velocity:.2f} RPM\")\n"
      ],
      "metadata": {
        "id": "ggQYd7iFwXn8",
        "outputId": "234fc7d4-1dcd-4f88-921b-d9bed8a2abf3",
        "colab": {
          "base_uri": "https://localhost:8080/"
        }
      },
      "execution_count": null,
      "outputs": [
        {
          "output_type": "stream",
          "name": "stdout",
          "text": [
            "Generación 1: Mejor velocidad = 130.73 RPM, Fitness = -0.3989\n",
            "Generación 2: Mejor velocidad = 79.79 RPM, Fitness = -0.3989\n",
            "Generación 3: Mejor velocidad = 79.79 RPM, Fitness = -0.3989\n",
            "Generación 4: Mejor velocidad = 79.79 RPM, Fitness = -0.3989\n",
            "Generación 5: Mejor velocidad = 79.79 RPM, Fitness = -0.3989\n",
            "Generación 6: Mejor velocidad = 79.79 RPM, Fitness = -0.3989\n",
            "Generación 7: Mejor velocidad = 79.79 RPM, Fitness = -0.3989\n",
            "Generación 8: Mejor velocidad = 76.42 RPM, Fitness = -0.3573\n",
            "Generación 9: Mejor velocidad = 71.46 RPM, Fitness = -0.3573\n",
            "Generación 10: Mejor velocidad = 71.46 RPM, Fitness = -0.3573\n",
            "Generación 11: Mejor velocidad = 71.46 RPM, Fitness = -0.3573\n",
            "Generación 12: Mejor velocidad = 71.46 RPM, Fitness = -0.3573\n",
            "Generación 13: Mejor velocidad = 72.08 RPM, Fitness = -0.3466\n",
            "Generación 14: Mejor velocidad = 69.32 RPM, Fitness = -0.3466\n",
            "Generación 15: Mejor velocidad = 69.32 RPM, Fitness = -0.3466\n",
            "Generación 16: Mejor velocidad = 69.32 RPM, Fitness = -0.3466\n",
            "Generación 17: Mejor velocidad = 69.73 RPM, Fitness = -0.3234\n",
            "Generación 18: Mejor velocidad = 64.68 RPM, Fitness = -0.3234\n",
            "Generación 19: Mejor velocidad = 64.68 RPM, Fitness = -0.3234\n",
            "Generación 20: Mejor velocidad = 64.68 RPM, Fitness = -0.3234\n",
            "\n",
            "Velocidad óptima encontrada: 64.68 RPM\n"
          ]
        }
      ]
    }
  ]
}