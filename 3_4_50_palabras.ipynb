{
  "nbformat": 4,
  "nbformat_minor": 0,
  "metadata": {
    "colab": {
      "provenance": []
    },
    "kernelspec": {
      "name": "python3",
      "display_name": "Python 3"
    },
    "language_info": {
      "name": "python"
    }
  },
  "cells": [
    {
      "cell_type": "code",
      "source": [
        "import random\n",
        "import string\n",
        "\n",
        "# Palabra objetivo\n",
        "target_word = \"GENETICA\"  # Tu palabra objetivo\n",
        "\n",
        "# Parámetros del AG\n",
        "population_size = 50\n",
        "mutation_rate = 0.1\n",
        "generations = 1000\n",
        "\n",
        "# Generar palabra aleatoria\n",
        "def random_word(length):\n",
        "    return ''.join(random.choices(string.ascii_uppercase, k=length))\n",
        "\n",
        "# Calcular aptitud\n",
        "def fitness(word):\n",
        "    return sum(1 for t, w in zip(target_word, word) if t == w)\n",
        "\n",
        "# Generar población inicial\n",
        "population = [random_word(len(target_word)) for _ in range(population_size)]\n",
        "\n",
        "# Función para cruzamiento\n",
        "def crossover(parent1, parent2):\n",
        "    pivot = random.randint(1, len(target_word) - 1)\n",
        "    return parent1[:pivot] + parent2[pivot:]\n",
        "\n",
        "# Función para mutación\n",
        "def mutate(word):\n",
        "    word = list(word)\n",
        "    for i in range(len(word)):\n",
        "        if random.random() < mutation_rate:\n",
        "            word[i] = random.choice(string.ascii_uppercase)\n",
        "    return ''.join(word)\n",
        "\n",
        "# Algoritmo genético\n",
        "for generation in range(generations):\n",
        "    # Evaluar aptitud\n",
        "    population = sorted(population, key=fitness, reverse=True)\n",
        "    best_word = population[0]\n",
        "\n",
        "    # Si la mejor palabra tiene la aptitud máxima (coincide con la palabra objetivo), finaliza\n",
        "    if fitness(best_word) == len(target_word):\n",
        "        print(f\"¡Palabra encontrada en la generación {generation + 1}: {best_word}\")\n",
        "        break\n",
        "\n",
        "    # Selección de mejores\n",
        "    top_individuals = population[:population_size // 2]\n",
        "    next_generation = []\n",
        "\n",
        "    # Generar nueva población\n",
        "    for _ in range(population_size):\n",
        "        parent1, parent2 = random.sample(top_individuals, 2)\n",
        "        child = crossover(parent1, parent2)\n",
        "        child = mutate(child)\n",
        "        next_generation.append(child)\n",
        "\n",
        "    population = next_generation\n",
        "\n",
        "else:\n",
        "    print(\"No se encontró la palabra objetivo después de 1000 generaciones.\")\n"
      ],
      "metadata": {
        "colab": {
          "base_uri": "https://localhost:8080/"
        },
        "id": "k6RbUb-7Tyil",
        "outputId": "431b4df7-293f-4fc7-8ec7-86ce1a98ed2d"
      },
      "execution_count": 3,
      "outputs": [
        {
          "output_type": "stream",
          "name": "stdout",
          "text": [
            "¡Palabra encontrada en la generación 29: GENETICA\n"
          ]
        }
      ]
    }
  ]
}