{
  "nbformat": 4,
  "nbformat_minor": 0,
  "metadata": {
    "colab": {
      "provenance": []
    },
    "kernelspec": {
      "name": "python3",
      "display_name": "Python 3"
    },
    "language_info": {
      "name": "python"
    }
  },
  "cells": [
    {
      "cell_type": "code",
      "source": [
        "import random\n",
        "import string\n",
        "\n",
        "# Palabra objetivo\n",
        "target_word = \"GENETICA\"  # Tu palabra objetivo\n",
        "\n",
        "# Parámetros del AG\n",
        "population_size = 50\n",
        "mutation_rate = 0.1\n",
        "generations = 1000\n",
        "\n",
        "# Generar palabra aleatoria\n",
        "def random_word(length):\n",
        "    return ''.join(random.choices(string.ascii_uppercase, k=length))\n",
        "\n",
        "# Calcular aptitud\n",
        "def fitness(word):\n",
        "    return sum(1 for t, w in zip(target_word, word) if t == w)\n",
        "\n",
        "# Generar población inicial\n",
        "population = [random_word(len(target_word)) for _ in range(population_size)]\n",
        "\n",
        "# Función para cruzamiento\n",
        "def crossover(parent1, parent2):\n",
        "    pivot = random.randint(1, len(target_word) - 1)\n",
        "    return parent1[:pivot] + parent2[pivot:]\n",
        "\n",
        "# Función para mutación\n",
        "def mutate(word):\n",
        "    word = list(word)\n",
        "    for i in range(len(word)):\n",
        "        if random.random() < mutation_rate:\n",
        "            word[i] = random.choice(string.ascii_uppercase)\n",
        "    return ''.join(word)\n",
        "\n",
        "# Algoritmo genético\n",
        "for generation in range(generations):\n",
        "    # Evaluar aptitud\n",
        "    population = sorted(population, key=fitness, reverse=True)\n",
        "    if fitness(population[0]) == len(target_word):\n",
        "        print(f\"¡Palabra encontrada en la generación {generation + 1}: {population[0]}\")\n",
        "        break\n",
        "\n",
        "    # Selección de mejores\n",
        "    top_individuals = population[:population_size // 2]\n",
        "    next_generation = []\n",
        "\n",
        "    # Generar nueva población\n",
        "    for _ in range(population_size):\n",
        "        parent1, parent2 = random.sample(top_individuals, 2)\n",
        "        child = crossover(parent1, parent2)\n",
        "        child = mutate(child)\n",
        "        next_generation.append(child)\n",
        "\n",
        "    population = next_generation\n",
        "\n",
        "else:\n",
        "    print(\"No se encontró la palabra objetivo después de 1000 generaciones.\")\n"
      ],
      "metadata": {
        "colab": {
          "base_uri": "https://localhost:8080/"
        },
        "id": "u6RL5cbFNul1",
        "outputId": "77fa6f3b-135e-46f3-8d79-ca13382701be"
      },
      "execution_count": null,
      "outputs": [
        {
          "output_type": "stream",
          "name": "stdout",
          "text": [
            "¡Palabra encontrada en la generación 30: GENETICA\n"
          ]
        }
      ]
    },
    {
      "cell_type": "code",
      "source": [
        "# Agregando algunas correcciones al ejercicio. Diversidad inicial y limitación en las palabras."
      ],
      "metadata": {
        "id": "8WGfdHnOtYqz"
      },
      "execution_count": null,
      "outputs": []
    },
    {
      "cell_type": "code",
      "source": [
        "import pyttsx3\n",
        "\n",
        "try:\n",
        "    engine = pyttsx3.init()  # Sin especificar el controlador, deja que pyttsx3 elija\n",
        "    engine.say(\"Prueba de síntesis de voz en Windows.\")\n",
        "    engine.runAndWait()\n",
        "except Exception as e:\n",
        "    print(f\"Error al inicializar el motor: {e}\")\n",
        "\n"
      ],
      "metadata": {
        "colab": {
          "base_uri": "https://localhost:8080/"
        },
        "id": "nrL0s7sLvpWK",
        "outputId": "1e31d5cf-e3d4-426b-f965-00ac8eb2a6f1"
      },
      "execution_count": null,
      "outputs": [
        {
          "output_type": "stream",
          "name": "stdout",
          "text": [
            "Error al inicializar el motor: This means you probably do not have eSpeak or eSpeak-ng installed!\n"
          ]
        }
      ]
    },
    {
      "cell_type": "code",
      "source": [
        "pip install C:/path_to_downloaded_file/pywin32‑228‑cp310‑cp310‑win_amd64.whl\n"
      ],
      "metadata": {
        "colab": {
          "base_uri": "https://localhost:8080/"
        },
        "id": "IEk1qvPuvsMl",
        "outputId": "59e08126-e8fc-4e5a-e46f-d79c4519a2f6"
      },
      "execution_count": null,
      "outputs": [
        {
          "output_type": "stream",
          "name": "stdout",
          "text": [
            "\u001b[33mWARNING: Requirement 'C:/path_to_downloaded_file/pywin32‑228‑cp310‑cp310‑win_amd64.whl' looks like a filename, but the file does not exist\u001b[0m\u001b[33m\n",
            "\u001b[0m\u001b[31mERROR: pywin32‑228‑cp310‑cp310‑win_amd64.whl is not a valid wheel filename.\u001b[0m\u001b[31m\n",
            "\u001b[0m"
          ]
        }
      ]
    }
  ]
}